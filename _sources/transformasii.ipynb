{
  "cells": [
    {
      "cell_type": "markdown",
      "metadata": {
        "id": "4HAM55zFmuI_"
      },
      "source": [
        "# Transformasi Linear"
      ]
    },
    {
      "cell_type": "markdown",
      "metadata": {
        "id": "Ln1NBGOVrFdQ"
      },
      "source": [
        "## Definisi Transformasi Linier\n",
        "\n",
        "Fungsi f dari himpunan X ke himpunan Y terdapat aturan yang\n",
        "menetapkan setiap elemen Y ke setiap elemen X. Misalkan himpunan X\n",
        "dan Y keduanya merupakan himpunan semua vektor dalam ruang, dapat\n",
        "dinyatakan sebagai suatu transformasi."
      ]
    },
    {
      "cell_type": "markdown",
      "metadata": {
        "id": "ul9dWqysoneD"
      },
      "source": [
        "### **Soal**\n",
        "Tunjukkan bahwa transformasi linier $ T: \\mathbb{R}^2 \\to \\mathbb{R}^2 $ yang dinyatakan oleh matriks:\n",
        "\n",
        "$\n",
        "A = \\begin{bmatrix}\n",
        "\\cos\\theta & -\\sin\\theta \\\\\n",
        "\\sin\\theta & \\cos\\theta\n",
        "\\end{bmatrix}\n",
        "$\n",
        "\n",
        "memiliki sifat rotasi dalam $ \\mathbb{R}^2 $ berlawanan arah jarum jam dengan sudut $ \\theta $.\n",
        "\n",
        "#### **Solusi**\n",
        "\n",
        "Misalkan suatu vektor dalam koordinat Kartesius dinyatakan dalam koordinat polar sebagai:\n",
        "\n",
        "$\n",
        "\\mathbf{v} = \\begin{bmatrix} x \\\\ y \\end{bmatrix} = \\begin{bmatrix} r \\cos\\alpha \\\\ r \\sin\\alpha \\end{bmatrix}\n",
        "$\n",
        "\n",
        "dengan $ r $ merupakan panjang vektor $ \\mathbf{v} $, dan $ \\alpha $ menyatakan sudut antara sumbu-$ x $ positif dengan vektor $ \\mathbf{v} $.\n",
        "\n",
        "Transformasikan vektor $ \\mathbf{v} $ dengan matriks $ A $:\n",
        "\n",
        "$\n",
        "A \\mathbf{v} = \\begin{bmatrix}\n",
        "\\cos\\theta & -\\sin\\theta \\\\\n",
        "\\sin\\theta & \\cos\\theta\n",
        "\\end{bmatrix}\n",
        "\\begin{bmatrix}\n",
        "r \\cos\\alpha \\\\\n",
        "r \\sin\\alpha\n",
        "\\end{bmatrix}\n",
        "$\n",
        "\n",
        "Dengan melakukan perkalian matriks, diperoleh:\n",
        "\n",
        "$\n",
        "A \\mathbf{v} = \\begin{bmatrix}\n",
        "r(\\cos\\theta \\cos\\alpha - \\sin\\theta \\sin\\alpha) \\\\\n",
        "r(\\sin\\theta \\cos\\alpha + \\cos\\theta \\sin\\alpha)\n",
        "\\end{bmatrix}\n",
        "$\n",
        "\n",
        "Menggunakan identitas trigonometri untuk penjumlahan sudut:\n",
        "\n",
        "$\n",
        "\\cos(\\alpha + \\theta) = \\cos\\alpha\\cos\\theta - \\sin\\alpha\\sin\\theta \\quad \\text{(Identitas kosinus)}\n",
        "$\n",
        "\n",
        "$\n",
        "\\sin(\\alpha + \\theta) = \\sin\\alpha\\cos\\theta + \\cos\\alpha\\sin\\theta \\quad \\text{(Identitas sinus)}\n",
        "$\n",
        "\n",
        "Maka hasil transformasi dapat ditulis sebagai:\n",
        "$\n",
        "A \\mathbf{v} = r \\begin{bmatrix} \\cos(\\alpha + \\theta) \\\\ \\sin(\\alpha + \\theta) \\end{bmatrix}\n",
        "$\n",
        "\n",
        "Persamaan ini menunjukkan bahwa vektor hasil transformasi memiliki panjang yang sama ($ r $) tetapi sudut bertambah sebesar $ \\theta $, yang berarti vektor tersebut telah dirotasi sebesar $ \\theta $ berlawanan arah jarum jam.\n",
        "\n",
        "#### **Kesimpulan**\n",
        "\n",
        "Transformasi linier $ T $ dengan matriks:\n",
        "\n",
        "$\n",
        "A = \\begin{bmatrix}\n",
        "\\cos\\theta & -\\sin\\theta \\\\\n",
        "\\sin\\theta & \\cos\\theta\n",
        "\\end{bmatrix}\n",
        "$\n",
        "\n",
        "adalah sebuah rotasi terhadap titik asal sebesar sudut $ \\theta $ berlawanan arah jarum jam.\n"
      ]
    }
  ],
  "metadata": {
    "colab": {
      "provenance": []
    },
    "kernelspec": {
      "display_name": "Python 3",
      "name": "python3"
    },
    "language_info": {
      "name": "python"
    }
  },
  "nbformat": 4,
  "nbformat_minor": 0
}
