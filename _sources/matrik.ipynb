{
  "nbformat": 4,
  "nbformat_minor": 0,
  "metadata": {
    "colab": {
      "provenance": []
    },
    "kernelspec": {
      "name": "python3",
      "display_name": "Python 3"
    },
    "language_info": {
      "name": "python"
    }
  },
  "cells": [
    {
      "cell_type": "markdown",
      "source": [
        "# Matriks\n",
        "## **Definisi Matriks**\n",
        "Di Roma kuno, matriks adalah hewan betina yang dipelihara untuk dibiakkan, atau tanaman (kadang-kadang disebut \"tanaman induk\" atau \"tanaman induk\") yang bijinya digunakan untuk menghasilkan tanaman lain. Dalam bahasa Inggris, kata tersebut memiliki banyak arti terkait. Matematikawan menggunakannya untuk susunan angka atau simbol berbentuk persegi panjang yang dapat digunakan untuk membuat berbagai perhitungan; ahli geologi menggunakannya untuk tanah atau batu tempat fosil ditemukan, seperti bayi dalam kandungan. Dan matriks adalah pilihan yang tepat sebagai nama realitas tempat semua manusia hidup dalam serangkaian film fiksi ilmiah yang terkenal. Matriks adalah susunan bilangan yang diatur dalam baris dan kolom sehingga membentuk persegi panjang. Bilangan-bilangan yang tersusun dalam matriks disebut elemen atau entri matriks.\n",
        "\n",
        "**Ciri-ciri matriks**\n",
        "- Matriks diberi nama dengan huruf kapital, seperti A, B, C, dan seterusnya.\n",
        "- Anggotanya dinyatakan dengan huruf kecil.\n",
        "- Ordo matriks ditulis sebagai perkalian dua bilangan bulat positif.\n",
        "- Bilangan pertama menyatakan banyaknya baris, dan bilangan kedua menyatakan banyaknya kolom.\n",
        "- Baris adalah susunan bilangan-bilangan yang mendatar (horizontal).\n",
        "- Kolom adalah susunan bilangan-bilangan yang tegak (vertikal).\n",
        "\n",
        "## **Operasi Aritmatika Matriks**\n",
        "Apa itu operasi matriks? Operasi matriks adalah operasi terhadap dua atau lebih matriks. Operasi matriks juga dikenal sebagai operasi aljabar matriks. Pada dasarnya, operasi matriks itu meliputi penjumlahan, pengurangan, dan perkalian matriks.\n",
        "\n",
        "Eh, tapi kok ada yang kurang ya? Kok tidak ada pembagian seperti halnya perhitungan matematika dasar pada umumnya?\n",
        "\n",
        "Jadi, pada operasi matriks memang tidak ada pembagian karena perkalian matriks itu bersifat tidak komutatif. Apa maksudnya sifat komutatif? Sifat komutatif merupakan sifat dalam operasi hitung yang akan tetap menghasilkan hal sama meskipun letaknya ditukar.\n",
        "\n",
        "### Penjumlahan Matriks\n",
        "Operasi matriks yang pertama kita bahas adalah penjumlahan matriks. Operasi matriks adalah penjumlahan 2 matriks yang letak komponennya sama. Sebenarnya, operasi matriks tidak jauh beda dengan operasi penjumlahan pada umumnya, tapi ada syarat matriks bisa dijumlahkan.\n",
        "Apa sih syarat matriks bisa dijumlahkan? Syarat matriks agar bisa dijumlahkan adalah dua matriks harus memiliki ordo yang sama.\n",
        "\n",
        "#### Konsep Penjumlahan Matriks\n",
        "Berikut contoh penjumlahan matriks\n"
      ],
      "metadata": {
        "id": "TA4lmByFyxKo"
      }
    },
    {
      "cell_type": "code",
      "source": [
        "import sympy as sy\n",
        "\n",
        "# Definisi matriks dengan SymPy\n",
        "a_sy = sy.Matrix([[2, 4, 5], [1, 8, 7], [3, 0, 6]])\n",
        "b_sy = sy.Matrix([[-3, 4, 8], [2, -4, 6], [5, 7, 0]])\n",
        "\n",
        "# Penjumlahan matriks dengan SymPy\n",
        "sum_sympy = a_sy + b_sy\n",
        "\n",
        "print(\"Penjumlahan Matriks:\")\n",
        "\n",
        "def display_side_by_side(m1, m2, result):\n",
        "    rows = len(m1.tolist())\n",
        "    for i in range(rows):\n",
        "        print(m1.row(i), \" + \", m2.row(i), \" = \", result.row(i))\n",
        "\n",
        "display_side_by_side(a_sy, b_sy, sum_sympy)"
      ],
      "metadata": {
        "colab": {
          "base_uri": "https://localhost:8080/"
        },
        "id": "PjSnt4FUNeWW",
        "outputId": "9bed9ee6-3baa-4359-978b-0d516971dbec"
      },
      "execution_count": 23,
      "outputs": [
        {
          "output_type": "stream",
          "name": "stdout",
          "text": [
            "Penjumlahan Matriks:\n",
            "Matrix([[2, 4, 5]])  +  Matrix([[-3, 4, 8]])  =  Matrix([[-1, 8, 13]])\n",
            "Matrix([[1, 8, 7]])  +  Matrix([[2, -4, 6]])  =  Matrix([[3, 4, 13]])\n",
            "Matrix([[3, 0, 6]])  +  Matrix([[5, 7, 0]])  =  Matrix([[8, 7, 6]])\n"
          ]
        }
      ]
    },
    {
      "cell_type": "markdown",
      "source": [
        "### Pengurangan Matriks\n",
        "Syarat pengurangan matriks pun sama dengan penjumlahan, yaitu kedua matriks harus memiliki ordo yang sama sehingga bisa dioperasikan.\n",
        "#### Konsep Pengurangan Matriks\n",
        "Berikut contoh pengurangan matriks"
      ],
      "metadata": {
        "id": "-OPTcD67QOxD"
      }
    },
    {
      "cell_type": "code",
      "source": [
        "import sympy as sy\n",
        "\n",
        "# Definisi matriks dengan SymPy\n",
        "a_sy = sy.Matrix([[2, 4, 5], [1, 8, 7], [3, 0, 6]])\n",
        "b_sy = sy.Matrix([[-3, 4, 8], [2, -4, 6], [5, 7, 0]])\n",
        "\n",
        "# Pengurangan matriks dengan SymPy\n",
        "diff_sympy = a_sy - b_sy\n",
        "\n",
        "print(\"Pengurangan Matriks:\")\n",
        "\n",
        "def display_side_by_side(m1, m2, result):\n",
        "    rows = len(m1.tolist())\n",
        "    for i in range(rows):\n",
        "        print(m1.row(i), \" - \", m2.row(i), \" = \", result.row(i))\n",
        "\n",
        "display_side_by_side(a_sy, b_sy, diff_sympy)"
      ],
      "metadata": {
        "colab": {
          "base_uri": "https://localhost:8080/"
        },
        "id": "XCIY-QEeQPFf",
        "outputId": "9469afbe-80a5-4e6e-db6e-9d55fbbce8c5"
      },
      "execution_count": 26,
      "outputs": [
        {
          "output_type": "stream",
          "name": "stdout",
          "text": [
            "Pengurangan Matriks:\n",
            "Matrix([[2, 4, 5]])  -  Matrix([[-3, 4, 8]])  =  Matrix([[5, 0, -3]])\n",
            "Matrix([[1, 8, 7]])  -  Matrix([[2, -4, 6]])  =  Matrix([[-1, 12, 1]])\n",
            "Matrix([[3, 0, 6]])  -  Matrix([[5, 7, 0]])  =  Matrix([[-2, -7, 6]])\n"
          ]
        }
      ]
    },
    {
      "cell_type": "markdown",
      "source": [
        "### Perkalian Matriks\n",
        "\n",
        "Operasi perkalian matriks memilik 2 macam, yaitu :\n",
        "\n",
        "- Perkalian matriks dengan matriks\n",
        "- Perkalian matriks dengan bilangan real(skalar)\n",
        "\n",
        "**Perkalian Matriks dengan Matriks**\n",
        "\n",
        "Operasi perkalian dua matriks memiliki beberapa sifat, yaitu:\n",
        "\n",
        "A. Tidak Komutatif\n",
        "\n",
        "Operasi perkalian dua matriks bersifat tidak komutatif. Artinya, berbeda dengan perkalian pada umumnya.\n",
        "\n",
        "B. Sifat Distributif\n",
        "\n",
        "Pada sifat distributif ini berkaitan dengan operasi penjumlahan matriks.\n",
        "#### Konsep Perkalian Matriks dengan Matriks\n",
        "Berikut contoh perkalian matriks dengan matriks"
      ],
      "metadata": {
        "id": "KVMnvqa6F52v"
      }
    },
    {
      "cell_type": "code",
      "source": [
        "import sympy as sy\n",
        "\n",
        "# Definisi matriks dengan SymPy\n",
        "a_sy = sy.Matrix([[2, 4, 5], [1, 8, 7], [3, 0, 6]])\n",
        "b_sy = sy.Matrix([[-3, 4, 8], [2, -4, 6], [5, 7, 0]])\n",
        "\n",
        "# Perkalian matriks dengan SymPy\n",
        "prod_sympy = a_sy * b_sy\n",
        "\n",
        "print(\"Perkalian Matriks dengan Matriks:\")\n",
        "\n",
        "def display_side_by_side(m1, m2, result):\n",
        "    rows = len(m1.tolist())\n",
        "    for i in range(rows):\n",
        "        print(m1.row(i), \" * \", m2, \" = \", result.row(i))\n",
        "\n",
        "display_side_by_side(a_sy, b_sy, prod_sympy)"
      ],
      "metadata": {
        "colab": {
          "base_uri": "https://localhost:8080/"
        },
        "id": "bme09TIwF6vo",
        "outputId": "6d9ab77d-97c7-4b57-a4d9-b358d5473800"
      },
      "execution_count": 24,
      "outputs": [
        {
          "output_type": "stream",
          "name": "stdout",
          "text": [
            "Perkalian Matriks:\n",
            "Matrix([[2, 4, 5]])  *  Matrix([[-3, 4, 8], [2, -4, 6], [5, 7, 0]])  =  Matrix([[27, 27, 40]])\n",
            "Matrix([[1, 8, 7]])  *  Matrix([[-3, 4, 8], [2, -4, 6], [5, 7, 0]])  =  Matrix([[48, 21, 56]])\n",
            "Matrix([[3, 0, 6]])  *  Matrix([[-3, 4, 8], [2, -4, 6], [5, 7, 0]])  =  Matrix([[21, 54, 24]])\n"
          ]
        }
      ]
    },
    {
      "cell_type": "markdown",
      "source": [
        "**Perkalian Matriks dengan Skalar**\n",
        "\n",
        "Perkalian matriks dengan bilangan real (skalar) tidak memiliki persyaratan. Jadi, semua matriks dengan ordo apapun bisa dikalikan dengan bilangan real (skalar).\n",
        "\n",
        "#### Konsep Perkalian Matriks dengan Skalar\n",
        "Berikut contoh perkalian matriks dengan skalar"
      ],
      "metadata": {
        "id": "gG7zObEJzTH2"
      }
    },
    {
      "cell_type": "code",
      "source": [
        "import sympy as sy\n",
        "\n",
        "# Definisi matriks dengan SymPy\n",
        "a_sy = sy.Matrix([[2, 4, 5], [1, 8, 7], [3, 0, 6]])\n",
        "\n",
        "# Definisi skalar\n",
        "scalar = 3\n",
        "\n",
        "# Perkalian matriks dengan skalar\n",
        "prod_sympy = scalar * a_sy\n",
        "\n",
        "print(\"Perkalian Matriks dengan Skalar:\")\n",
        "\n",
        "def display_scalar_multiplication(scalar, matrix, result):\n",
        "    rows = len(matrix.tolist())\n",
        "    for i in range(rows):\n",
        "        print(f\"{scalar} * {matrix.row(i)} = {result.row(i)}\")\n",
        "\n",
        "display_scalar_multiplication(scalar, a_sy, prod_sympy)"
      ],
      "metadata": {
        "id": "VwiyOr7ezTXU",
        "colab": {
          "base_uri": "https://localhost:8080/"
        },
        "outputId": "9e308403-2141-4337-daf9-fa05b8cf00cf"
      },
      "execution_count": 25,
      "outputs": [
        {
          "output_type": "stream",
          "name": "stdout",
          "text": [
            "Perkalian Matriks dengan Skalar:\n",
            "3 * Matrix([[2, 4, 5]]) = Matrix([[6, 12, 15]])\n",
            "3 * Matrix([[1, 8, 7]]) = Matrix([[3, 24, 21]])\n",
            "3 * Matrix([[3, 0, 6]]) = Matrix([[9, 0, 18]])\n"
          ]
        }
      ]
    }
  ]
}