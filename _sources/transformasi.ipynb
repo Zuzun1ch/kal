{
  "nbformat": 4,
  "nbformat_minor": 0,
  "metadata": {
    "colab": {
      "provenance": []
    },
    "kernelspec": {
      "name": "python3",
      "display_name": "Python 3"
    },
    "language_info": {
      "name": "python"
    }
  },
  "cells": [
    {
      "cell_type": "markdown",
      "source": [
        "# **Transformasi Linear**"
      ],
      "metadata": {
        "id": "4HAM55zFmuI_"
      }
    },
    {
      "cell_type": "markdown",
      "source": [
        "## Definisi Transformasi Linier\n",
        "\n",
        "Fungsi f dari himpunan X ke himpunan Y terdapat aturan yang\n",
        "menetapkan setiap elemen Y ke setiap elemen X. Misalkan himpunan X\n",
        "dan Y keduanya merupakan himpunan semua vektor dalam ruang, dapat\n",
        "dinyatakan sebagai suatu transformasi."
      ],
      "metadata": {
        "id": "Ln1NBGOVrFdQ"
      }
    },
    {
      "cell_type": "markdown",
      "source": [
        "### **Soal**\n",
        "Tunjukkan bahwa transformasi linier $ T: \\mathbb{R}^2 \\to \\mathbb{R}^2 $ yang dinyatakan oleh matriks:\n",
        "\n",
        "$\n",
        "A = \\begin{bmatrix}\n",
        "\\cos\\theta & -\\sin\\theta \\\\\n",
        "\\sin\\theta & \\cos\\theta\n",
        "\\end{bmatrix}\n",
        "$\n",
        "\n",
        "memiliki sifat rotasi dalam $ \\mathbb{R}^2 $ berlawanan arah jarum jam dengan sudut $ \\theta $.\n",
        "\n",
        "#### **Solusi**\n",
        "\n",
        "Misalkan suatu vektor dalam koordinat Kartesius dinyatakan dalam koordinat polar sebagai:\n",
        "\n",
        "$\n",
        "\\mathbf{v} = \\begin{bmatrix} x \\\\ y \\end{bmatrix} = \\begin{bmatrix} r \\cos\\alpha \\\\ r \\sin\\alpha \\end{bmatrix}\n",
        "$\n",
        "\n",
        "dengan $ r $ merupakan panjang vektor $ \\mathbf{v} $, dan $ \\alpha $ menyatakan sudut antara sumbu-$ x $ positif dengan vektor $ \\mathbf{v} $.\n",
        "\n",
        "Transformasikan vektor $ \\mathbf{v} $ dengan matriks $ A $:\n",
        "\n",
        "$\n",
        "A \\mathbf{v} = \\begin{bmatrix}\n",
        "\\cos\\theta & -\\sin\\theta \\\\\n",
        "\\sin\\theta & \\cos\\theta\n",
        "\\end{bmatrix}\n",
        "\\begin{bmatrix}\n",
        "r \\cos\\alpha \\\\\n",
        "r \\sin\\alpha\n",
        "\\end{bmatrix}\n",
        "$\n",
        "\n",
        "Dengan melakukan perkalian matriks, diperoleh:\n",
        "\n",
        "$\n",
        "A \\mathbf{v} = \\begin{bmatrix}\n",
        "r(\\cos\\theta \\cos\\alpha - \\sin\\theta \\sin\\alpha) \\\\\n",
        "r(\\sin\\theta \\cos\\alpha + \\cos\\theta \\sin\\alpha)\n",
        "\\end{bmatrix}\n",
        "$\n",
        "\n",
        "Menggunakan identitas trigonometri untuk penjumlahan sudut:\n",
        "\\begin{align*}\n",
        "\\cos(\\alpha + \\theta) &= \\cos\\theta \\cos\\alpha - \\sin\\theta \\sin\\alpha \\\\\n",
        "\\sin(\\alpha + \\theta) &= \\sin\\theta \\cos\\alpha + \\cos\\theta \\sin\\alpha\n",
        "\\end{align*}\n",
        "\n",
        "Maka hasil transformasi dapat ditulis sebagai:\n",
        "$\n",
        "A \\mathbf{v} = r \\begin{bmatrix} \\cos(\\alpha + \\theta) \\\\ \\sin(\\alpha + \\theta) \\end{bmatrix}\n",
        "$\n",
        "\n",
        "Persamaan ini menunjukkan bahwa vektor hasil transformasi memiliki panjang yang sama ($ r $) tetapi sudut bertambah sebesar $ \\theta $, yang berarti vektor tersebut telah dirotasi sebesar $ \\theta $ berlawanan arah jarum jam.\n",
        "\n",
        "#### **Kesimpulan**\n",
        "\n",
        "Transformasi linier $ T $ dengan matriks:\n",
        "\n",
        "$\n",
        "A = \\begin{bmatrix}\n",
        "\\cos\\theta & -\\sin\\theta \\\\\n",
        "\\sin\\theta & \\cos\\theta\n",
        "\\end{bmatrix}\n",
        "$\n",
        "\n",
        "adalah sebuah rotasi terhadap titik asal sebesar sudut $ \\theta $ berlawanan arah jarum jam.\n"
      ],
      "metadata": {
        "id": "ul9dWqysoneD"
      }
    }
  ]
}